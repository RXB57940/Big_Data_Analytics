{
  "nbformat": 4,
  "nbformat_minor": 0,
  "metadata": {
    "colab": {
      "provenance": []
    },
    "kernelspec": {
      "name": "python3",
      "display_name": "Python 3"
    },
    "language_info": {
      "name": "python"
    }
  },
  "cells": [
    {
      "cell_type": "code",
      "execution_count": 3,
      "metadata": {
        "colab": {
          "base_uri": "https://localhost:8080/"
        },
        "id": "-50yIa1ZKSMm",
        "outputId": "09671945-861b-40f8-bb7c-06ba2e8bd534"
      },
      "outputs": [
        {
          "output_type": "stream",
          "name": "stdout",
          "text": [
            "   ID     Value Category\n",
            "0   1  0.394075        A\n",
            "1   2  0.059377        A\n",
            "2   3  0.564507        B\n",
            "3   4  0.056377        C\n",
            "4   5  0.607952        D\n"
          ]
        }
      ],
      "source": [
        "#1. Creating a DataFrame from a given dictionary\n",
        "import numpy as np\n",
        "import pandas as pd\n",
        "data = {\n",
        "    'ID': np.arange(1, 1000001),\n",
        "    'Value': np.random.rand(1000000),\n",
        "    'Category': np.random.choice(['A', 'B', 'C', 'D'], size=1000000)\n",
        "}\n",
        "df = pd.DataFrame(data)\n",
        "print(df.head())"
      ]
    },
    {
      "cell_type": "code",
      "source": [
        "#2. Output first 10 rows\n",
        "print(df.head(10))"
      ],
      "metadata": {
        "colab": {
          "base_uri": "https://localhost:8080/"
        },
        "id": "umXjQcUhLdDv",
        "outputId": "97ea593f-7943-491f-f616-d99bfb82f9d9"
      },
      "execution_count": 4,
      "outputs": [
        {
          "output_type": "stream",
          "name": "stdout",
          "text": [
            "   ID     Value Category\n",
            "0   1  0.394075        A\n",
            "1   2  0.059377        A\n",
            "2   3  0.564507        B\n",
            "3   4  0.056377        C\n",
            "4   5  0.607952        D\n",
            "5   6  0.299549        D\n",
            "6   7  0.114094        B\n",
            "7   8  0.760682        A\n",
            "8   9  0.173774        D\n",
            "9  10  0.288294        B\n"
          ]
        }
      ]
    },
    {
      "cell_type": "code",
      "source": [
        "#3. Access a column “Value”\n",
        "print(df['Value'])        # As a Series\n",
        "print(df.Value)           # Dot notation (less preferred if column name has spaces)\n"
      ],
      "metadata": {
        "colab": {
          "base_uri": "https://localhost:8080/"
        },
        "id": "nswpcFh6LoWb",
        "outputId": "ae05c3d9-6af0-4187-ba5f-e11867cde14d"
      },
      "execution_count": 5,
      "outputs": [
        {
          "output_type": "stream",
          "name": "stdout",
          "text": [
            "0         0.394075\n",
            "1         0.059377\n",
            "2         0.564507\n",
            "3         0.056377\n",
            "4         0.607952\n",
            "            ...   \n",
            "999995    0.069436\n",
            "999996    0.769763\n",
            "999997    0.656316\n",
            "999998    0.711991\n",
            "999999    0.736455\n",
            "Name: Value, Length: 1000000, dtype: float64\n",
            "0         0.394075\n",
            "1         0.059377\n",
            "2         0.564507\n",
            "3         0.056377\n",
            "4         0.607952\n",
            "            ...   \n",
            "999995    0.069436\n",
            "999996    0.769763\n",
            "999997    0.656316\n",
            "999998    0.711991\n",
            "999999    0.736455\n",
            "Name: Value, Length: 1000000, dtype: float64\n"
          ]
        }
      ]
    },
    {
      "cell_type": "code",
      "source": [
        "#4. Modify columns in the DataFrame with names (ID number, Random value, Choice) and show output\n",
        "#for first five rows.\n",
        "# Rename the columns\n",
        "df.columns = ['ID number', 'Random value', 'Choice']\n",
        "\n",
        "# Display the first five rows\n",
        "print(df.head(5))"
      ],
      "metadata": {
        "colab": {
          "base_uri": "https://localhost:8080/"
        },
        "id": "nBxxHYi3LwWk",
        "outputId": "db5f515e-51ec-4fb1-e7a3-6d31aad526d4"
      },
      "execution_count": 6,
      "outputs": [
        {
          "output_type": "stream",
          "name": "stdout",
          "text": [
            "   ID number  Random value Choice\n",
            "0          1      0.394075      A\n",
            "1          2      0.059377      A\n",
            "2          3      0.564507      B\n",
            "3          4      0.056377      C\n",
            "4          5      0.607952      D\n"
          ]
        }
      ]
    },
    {
      "cell_type": "code",
      "source": [
        "#5.Run the below given code by removing bugs and errors\n",
        "import pandas as pd\n",
        "\n",
        "# Display all rows\n",
        "pd.set_option('display.max_rows', None)\n",
        "\n",
        "# Corrected DataFrame\n",
        "student_data = pd.DataFrame({\n",
        "    'school_code': ['s001', 's002', 's003', 's002', 's004', 's003'],\n",
        "    'class': ['V', 'V', 'VI', 'VI', 'V', 'VI'],\n",
        "    'name': ['Alberto Franco', 'Gino Mcneill', 'Ryan Parkes', 'Eesha Hinton', 'Gino Mcneill', 'David Parkes'],\n",
        "    'date_Of_Birth': ['15/05/2002', '17/05/2002', '16/02/1999', '25/09/1998', '11/05/2002', '15/09/1997'],\n",
        "    'age': [12, 12, 13, 13, 14, 12],\n",
        "    'height': [173, 192, 186, 167, 151, 159],\n",
        "    'weight': [35, 32, 33, 30, 31, 32],\n",
        "    'address': ['street1', 'street2', 'street3', 'street1', 'street2', 'street4']\n",
        "}, index=['S1', 'S2', 'S3', 'S4', 'S5', 'S6'])\n",
        "\n",
        "print(\"Original DataFrame:\")\n",
        "print(student_data)\n",
        "\n",
        "# Group by school_code and class\n",
        "print('\\nSplit the said data on school_code and class wise:')\n",
        "result = student_data.groupby(['school_code', 'class'])\n",
        "\n",
        "# Iterate over each group\n",
        "for name, group in result:\n",
        "    print(\"\\nGroup:\")\n",
        "    print(name)\n",
        "    print(group)\n"
      ],
      "metadata": {
        "colab": {
          "base_uri": "https://localhost:8080/"
        },
        "id": "5XKAGHWvPkma",
        "outputId": "7b2d3659-8e72-4928-b3f2-b1ff9ef67f8d"
      },
      "execution_count": 7,
      "outputs": [
        {
          "output_type": "stream",
          "name": "stdout",
          "text": [
            "Original DataFrame:\n",
            "   school_code class            name date_Of_Birth  age  height  weight  \\\n",
            "S1        s001     V  Alberto Franco    15/05/2002   12     173      35   \n",
            "S2        s002     V    Gino Mcneill    17/05/2002   12     192      32   \n",
            "S3        s003    VI     Ryan Parkes    16/02/1999   13     186      33   \n",
            "S4        s002    VI    Eesha Hinton    25/09/1998   13     167      30   \n",
            "S5        s004     V    Gino Mcneill    11/05/2002   14     151      31   \n",
            "S6        s003    VI    David Parkes    15/09/1997   12     159      32   \n",
            "\n",
            "    address  \n",
            "S1  street1  \n",
            "S2  street2  \n",
            "S3  street3  \n",
            "S4  street1  \n",
            "S5  street2  \n",
            "S6  street4  \n",
            "\n",
            "Split the said data on school_code and class wise:\n",
            "\n",
            "Group:\n",
            "('s001', 'V')\n",
            "   school_code class            name date_Of_Birth  age  height  weight  \\\n",
            "S1        s001     V  Alberto Franco    15/05/2002   12     173      35   \n",
            "\n",
            "    address  \n",
            "S1  street1  \n",
            "\n",
            "Group:\n",
            "('s002', 'V')\n",
            "   school_code class          name date_Of_Birth  age  height  weight  address\n",
            "S2        s002     V  Gino Mcneill    17/05/2002   12     192      32  street2\n",
            "\n",
            "Group:\n",
            "('s002', 'VI')\n",
            "   school_code class          name date_Of_Birth  age  height  weight  address\n",
            "S4        s002    VI  Eesha Hinton    25/09/1998   13     167      30  street1\n",
            "\n",
            "Group:\n",
            "('s003', 'VI')\n",
            "   school_code class          name date_Of_Birth  age  height  weight  address\n",
            "S3        s003    VI   Ryan Parkes    16/02/1999   13     186      33  street3\n",
            "S6        s003    VI  David Parkes    15/09/1997   12     159      32  street4\n",
            "\n",
            "Group:\n",
            "('s004', 'V')\n",
            "   school_code class          name date_Of_Birth  age  height  weight  address\n",
            "S5        s004     V  Gino Mcneill    11/05/2002   14     151      31  street2\n"
          ]
        }
      ]
    },
    {
      "cell_type": "code",
      "source": [
        "from google.colab import files\n",
        "uploaded = files.upload()  # This will prompt you to upload a file from your PC\n",
        "\n",
        "# Get the filename from the uploaded dictionary keys\n",
        "filename = list(uploaded.keys())[0]\n",
        "\n"
      ],
      "metadata": {
        "colab": {
          "base_uri": "https://localhost:8080/",
          "height": 73
        },
        "id": "2WMxl6yeRNDV",
        "outputId": "932a7c3c-6f6b-40c1-f864-59ede67ddc67"
      },
      "execution_count": 8,
      "outputs": [
        {
          "output_type": "display_data",
          "data": {
            "text/plain": [
              "<IPython.core.display.HTML object>"
            ],
            "text/html": [
              "\n",
              "     <input type=\"file\" id=\"files-f75ab531-c1d9-414b-b5d9-4f2827e5e73e\" name=\"files[]\" multiple disabled\n",
              "        style=\"border:none\" />\n",
              "     <output id=\"result-f75ab531-c1d9-414b-b5d9-4f2827e5e73e\">\n",
              "      Upload widget is only available when the cell has been executed in the\n",
              "      current browser session. Please rerun this cell to enable.\n",
              "      </output>\n",
              "      <script>// Copyright 2017 Google LLC\n",
              "//\n",
              "// Licensed under the Apache License, Version 2.0 (the \"License\");\n",
              "// you may not use this file except in compliance with the License.\n",
              "// You may obtain a copy of the License at\n",
              "//\n",
              "//      http://www.apache.org/licenses/LICENSE-2.0\n",
              "//\n",
              "// Unless required by applicable law or agreed to in writing, software\n",
              "// distributed under the License is distributed on an \"AS IS\" BASIS,\n",
              "// WITHOUT WARRANTIES OR CONDITIONS OF ANY KIND, either express or implied.\n",
              "// See the License for the specific language governing permissions and\n",
              "// limitations under the License.\n",
              "\n",
              "/**\n",
              " * @fileoverview Helpers for google.colab Python module.\n",
              " */\n",
              "(function(scope) {\n",
              "function span(text, styleAttributes = {}) {\n",
              "  const element = document.createElement('span');\n",
              "  element.textContent = text;\n",
              "  for (const key of Object.keys(styleAttributes)) {\n",
              "    element.style[key] = styleAttributes[key];\n",
              "  }\n",
              "  return element;\n",
              "}\n",
              "\n",
              "// Max number of bytes which will be uploaded at a time.\n",
              "const MAX_PAYLOAD_SIZE = 100 * 1024;\n",
              "\n",
              "function _uploadFiles(inputId, outputId) {\n",
              "  const steps = uploadFilesStep(inputId, outputId);\n",
              "  const outputElement = document.getElementById(outputId);\n",
              "  // Cache steps on the outputElement to make it available for the next call\n",
              "  // to uploadFilesContinue from Python.\n",
              "  outputElement.steps = steps;\n",
              "\n",
              "  return _uploadFilesContinue(outputId);\n",
              "}\n",
              "\n",
              "// This is roughly an async generator (not supported in the browser yet),\n",
              "// where there are multiple asynchronous steps and the Python side is going\n",
              "// to poll for completion of each step.\n",
              "// This uses a Promise to block the python side on completion of each step,\n",
              "// then passes the result of the previous step as the input to the next step.\n",
              "function _uploadFilesContinue(outputId) {\n",
              "  const outputElement = document.getElementById(outputId);\n",
              "  const steps = outputElement.steps;\n",
              "\n",
              "  const next = steps.next(outputElement.lastPromiseValue);\n",
              "  return Promise.resolve(next.value.promise).then((value) => {\n",
              "    // Cache the last promise value to make it available to the next\n",
              "    // step of the generator.\n",
              "    outputElement.lastPromiseValue = value;\n",
              "    return next.value.response;\n",
              "  });\n",
              "}\n",
              "\n",
              "/**\n",
              " * Generator function which is called between each async step of the upload\n",
              " * process.\n",
              " * @param {string} inputId Element ID of the input file picker element.\n",
              " * @param {string} outputId Element ID of the output display.\n",
              " * @return {!Iterable<!Object>} Iterable of next steps.\n",
              " */\n",
              "function* uploadFilesStep(inputId, outputId) {\n",
              "  const inputElement = document.getElementById(inputId);\n",
              "  inputElement.disabled = false;\n",
              "\n",
              "  const outputElement = document.getElementById(outputId);\n",
              "  outputElement.innerHTML = '';\n",
              "\n",
              "  const pickedPromise = new Promise((resolve) => {\n",
              "    inputElement.addEventListener('change', (e) => {\n",
              "      resolve(e.target.files);\n",
              "    });\n",
              "  });\n",
              "\n",
              "  const cancel = document.createElement('button');\n",
              "  inputElement.parentElement.appendChild(cancel);\n",
              "  cancel.textContent = 'Cancel upload';\n",
              "  const cancelPromise = new Promise((resolve) => {\n",
              "    cancel.onclick = () => {\n",
              "      resolve(null);\n",
              "    };\n",
              "  });\n",
              "\n",
              "  // Wait for the user to pick the files.\n",
              "  const files = yield {\n",
              "    promise: Promise.race([pickedPromise, cancelPromise]),\n",
              "    response: {\n",
              "      action: 'starting',\n",
              "    }\n",
              "  };\n",
              "\n",
              "  cancel.remove();\n",
              "\n",
              "  // Disable the input element since further picks are not allowed.\n",
              "  inputElement.disabled = true;\n",
              "\n",
              "  if (!files) {\n",
              "    return {\n",
              "      response: {\n",
              "        action: 'complete',\n",
              "      }\n",
              "    };\n",
              "  }\n",
              "\n",
              "  for (const file of files) {\n",
              "    const li = document.createElement('li');\n",
              "    li.append(span(file.name, {fontWeight: 'bold'}));\n",
              "    li.append(span(\n",
              "        `(${file.type || 'n/a'}) - ${file.size} bytes, ` +\n",
              "        `last modified: ${\n",
              "            file.lastModifiedDate ? file.lastModifiedDate.toLocaleDateString() :\n",
              "                                    'n/a'} - `));\n",
              "    const percent = span('0% done');\n",
              "    li.appendChild(percent);\n",
              "\n",
              "    outputElement.appendChild(li);\n",
              "\n",
              "    const fileDataPromise = new Promise((resolve) => {\n",
              "      const reader = new FileReader();\n",
              "      reader.onload = (e) => {\n",
              "        resolve(e.target.result);\n",
              "      };\n",
              "      reader.readAsArrayBuffer(file);\n",
              "    });\n",
              "    // Wait for the data to be ready.\n",
              "    let fileData = yield {\n",
              "      promise: fileDataPromise,\n",
              "      response: {\n",
              "        action: 'continue',\n",
              "      }\n",
              "    };\n",
              "\n",
              "    // Use a chunked sending to avoid message size limits. See b/62115660.\n",
              "    let position = 0;\n",
              "    do {\n",
              "      const length = Math.min(fileData.byteLength - position, MAX_PAYLOAD_SIZE);\n",
              "      const chunk = new Uint8Array(fileData, position, length);\n",
              "      position += length;\n",
              "\n",
              "      const base64 = btoa(String.fromCharCode.apply(null, chunk));\n",
              "      yield {\n",
              "        response: {\n",
              "          action: 'append',\n",
              "          file: file.name,\n",
              "          data: base64,\n",
              "        },\n",
              "      };\n",
              "\n",
              "      let percentDone = fileData.byteLength === 0 ?\n",
              "          100 :\n",
              "          Math.round((position / fileData.byteLength) * 100);\n",
              "      percent.textContent = `${percentDone}% done`;\n",
              "\n",
              "    } while (position < fileData.byteLength);\n",
              "  }\n",
              "\n",
              "  // All done.\n",
              "  yield {\n",
              "    response: {\n",
              "      action: 'complete',\n",
              "    }\n",
              "  };\n",
              "}\n",
              "\n",
              "scope.google = scope.google || {};\n",
              "scope.google.colab = scope.google.colab || {};\n",
              "scope.google.colab._files = {\n",
              "  _uploadFiles,\n",
              "  _uploadFilesContinue,\n",
              "};\n",
              "})(self);\n",
              "</script> "
            ]
          },
          "metadata": {}
        },
        {
          "output_type": "stream",
          "name": "stdout",
          "text": [
            "Saving data (1).csv to data (1).csv\n"
          ]
        }
      ]
    },
    {
      "cell_type": "code",
      "source": [
        "#6.Read the provided CSV file ‘data.csv’\n",
        "# Read the CSV file you just uploaded\n",
        "df = pd.read_csv(filename)\n",
        "# Show all rows\n",
        "pd.set_option('display.max_rows', None)\n",
        "\n",
        "# Show all columns\n",
        "pd.set_option('display.max_columns', None)\n",
        "\n",
        "# Now when you print df, all rows and columns will show\n",
        "print(df)"
      ],
      "metadata": {
        "colab": {
          "base_uri": "https://localhost:8080/"
        },
        "id": "lRLgOXoVR_xz",
        "outputId": "77febf0d-77bc-4d66-fe25-f32374d7e143"
      },
      "execution_count": 73,
      "outputs": [
        {
          "output_type": "stream",
          "name": "stdout",
          "text": [
            "     Duration  Pulse  Maxpulse  Calories\n",
            "0          60    110       130     409.1\n",
            "1          60    117       145     479.0\n",
            "2          60    103       135     340.0\n",
            "3          45    109       175     282.4\n",
            "4          45    117       148     406.0\n",
            "5          60    102       127     300.0\n",
            "6          60    110       136     374.0\n",
            "7          45    104       134     253.3\n",
            "8          30    109       133     195.1\n",
            "9          60     98       124     269.0\n",
            "10         60    103       147     329.3\n",
            "11         60    100       120     250.7\n",
            "12         60    106       128     345.3\n",
            "13         60    104       132     379.3\n",
            "14         60     98       123     275.0\n",
            "15         60     98       120     215.2\n",
            "16         60    100       120     300.0\n",
            "17         45     90       112       NaN\n",
            "18         60    103       123     323.0\n",
            "19         45     97       125     243.0\n",
            "20         60    108       131     364.2\n",
            "21         45    100       119     282.0\n",
            "22         60    130       101     300.0\n",
            "23         45    105       132     246.0\n",
            "24         60    102       126     334.5\n",
            "25         60    100       120     250.0\n",
            "26         60     92       118     241.0\n",
            "27         60    103       132       NaN\n",
            "28         60    100       132     280.0\n",
            "29         60    102       129     380.3\n",
            "30         60     92       115     243.0\n",
            "31         45     90       112     180.1\n",
            "32         60    101       124     299.0\n",
            "33         60     93       113     223.0\n",
            "34         60    107       136     361.0\n",
            "35         60    114       140     415.0\n",
            "36         60    102       127     300.0\n",
            "37         60    100       120     300.0\n",
            "38         60    100       120     300.0\n",
            "39         45    104       129     266.0\n",
            "40         45     90       112     180.1\n",
            "41         60     98       126     286.0\n",
            "42         60    100       122     329.4\n",
            "43         60    111       138     400.0\n",
            "44         60    111       131     397.0\n",
            "45         60     99       119     273.0\n",
            "46         60    109       153     387.6\n",
            "47         45    111       136     300.0\n",
            "48         45    108       129     298.0\n",
            "49         60    111       139     397.6\n",
            "50         60    107       136     380.2\n",
            "51         80    123       146     643.1\n",
            "52         60    106       130     263.0\n",
            "53         60    118       151     486.0\n",
            "54         30    136       175     238.0\n",
            "55         60    121       146     450.7\n",
            "56         60    118       121     413.0\n",
            "57         45    115       144     305.0\n",
            "58         20    153       172     226.4\n",
            "59         45    123       152     321.0\n",
            "60        210    108       160    1376.0\n",
            "61        160    110       137    1034.4\n",
            "62        160    109       135     853.0\n",
            "63         45    118       141     341.0\n",
            "64         20    110       130     131.4\n",
            "65        180     90       130     800.4\n",
            "66        150    105       135     873.4\n",
            "67        150    107       130     816.0\n",
            "68         20    106       136     110.4\n",
            "69        300    108       143    1500.2\n",
            "70        150     97       129    1115.0\n",
            "71         60    109       153     387.6\n",
            "72         90    100       127     700.0\n",
            "73        150     97       127     953.2\n",
            "74         45    114       146     304.0\n",
            "75         90     98       125     563.2\n",
            "76         45    105       134     251.0\n",
            "77         45    110       141     300.0\n",
            "78        120    100       130     500.4\n",
            "79        270    100       131    1729.0\n",
            "80         30    159       182     319.2\n",
            "81         45    149       169     344.0\n",
            "82         30    103       139     151.1\n",
            "83        120    100       130     500.0\n",
            "84         45    100       120     225.3\n",
            "85         30    151       170     300.0\n",
            "86         45    102       136     234.0\n",
            "87        120    100       157    1000.1\n",
            "88         45    129       103     242.0\n",
            "89         20     83       107      50.3\n",
            "90        180    101       127     600.1\n",
            "91         45    107       137       NaN\n",
            "92         30     90       107     105.3\n",
            "93         15     80       100      50.5\n",
            "94         20    150       171     127.4\n",
            "95         20    151       168     229.4\n",
            "96         30     95       128     128.2\n",
            "97         25    152       168     244.2\n",
            "98         30    109       131     188.2\n",
            "99         90     93       124     604.1\n",
            "100        20     95       112      77.7\n",
            "101        90     90       110     500.0\n",
            "102        90     90       100     500.0\n",
            "103        90     90       100     500.4\n",
            "104        30     92       108      92.7\n",
            "105        30     93       128     124.0\n",
            "106       180     90       120     800.3\n",
            "107        30     90       120      86.2\n",
            "108        90     90       120     500.3\n",
            "109       210    137       184    1860.4\n",
            "110        60    102       124     325.2\n",
            "111        45    107       124     275.0\n",
            "112        15    124       139     124.2\n",
            "113        45    100       120     225.3\n",
            "114        60    108       131     367.6\n",
            "115        60    108       151     351.7\n",
            "116        60    116       141     443.0\n",
            "117        60     97       122     277.4\n",
            "118        60    105       125       NaN\n",
            "119        60    103       124     332.7\n",
            "120        30    112       137     193.9\n",
            "121        45    100       120     100.7\n",
            "122        60    119       169     336.7\n",
            "123        60    107       127     344.9\n",
            "124        60    111       151     368.5\n",
            "125        60     98       122     271.0\n",
            "126        60     97       124     275.3\n",
            "127        60    109       127     382.0\n",
            "128        90     99       125     466.4\n",
            "129        60    114       151     384.0\n",
            "130        60    104       134     342.5\n",
            "131        60    107       138     357.5\n",
            "132        60    103       133     335.0\n",
            "133        60    106       132     327.5\n",
            "134        60    103       136     339.0\n",
            "135        20    136       156     189.0\n",
            "136        45    117       143     317.7\n",
            "137        45    115       137     318.0\n",
            "138        45    113       138     308.0\n",
            "139        20    141       162     222.4\n",
            "140        60    108       135     390.0\n",
            "141        60     97       127       NaN\n",
            "142        45    100       120     250.4\n",
            "143        45    122       149     335.4\n",
            "144        60    136       170     470.2\n",
            "145        45    106       126     270.8\n",
            "146        60    107       136     400.0\n",
            "147        60    112       146     361.9\n",
            "148        30    103       127     185.0\n",
            "149        60    110       150     409.4\n",
            "150        60    106       134     343.0\n",
            "151        60    109       129     353.2\n",
            "152        60    109       138     374.0\n",
            "153        30    150       167     275.8\n",
            "154        60    105       128     328.0\n",
            "155        60    111       151     368.5\n",
            "156        60     97       131     270.4\n",
            "157        60    100       120     270.4\n",
            "158        60    114       150     382.8\n",
            "159        30     80       120     240.9\n",
            "160        30     85       120     250.4\n",
            "161        45     90       130     260.4\n",
            "162        45     95       130     270.0\n",
            "163        45    100       140     280.9\n",
            "164        60    105       140     290.8\n",
            "165        60    110       145     300.0\n",
            "166        60    115       145     310.2\n",
            "167        75    120       150     320.4\n",
            "168        75    125       150     330.4\n"
          ]
        }
      ]
    },
    {
      "cell_type": "code",
      "source": [
        "# 7. Show basic statistical description\n",
        "import matplotlib.pyplot as plt\n",
        "print(df.describe())\n"
      ],
      "metadata": {
        "colab": {
          "base_uri": "https://localhost:8080/"
        },
        "id": "Jgxu94lkUoG0",
        "outputId": "b276d73c-3508-41a4-e716-66cdb6089c7f"
      },
      "execution_count": 75,
      "outputs": [
        {
          "output_type": "stream",
          "name": "stdout",
          "text": [
            "         Duration       Pulse    Maxpulse     Calories\n",
            "count  169.000000  169.000000  169.000000   164.000000\n",
            "mean    63.846154  107.461538  134.047337   375.790244\n",
            "std     42.299949   14.510259   16.450434   266.379919\n",
            "min     15.000000   80.000000  100.000000    50.300000\n",
            "25%     45.000000  100.000000  124.000000   250.925000\n",
            "50%     60.000000  105.000000  131.000000   318.600000\n",
            "75%     60.000000  111.000000  141.000000   387.600000\n",
            "max    300.000000  159.000000  184.000000  1860.400000\n"
          ]
        }
      ]
    },
    {
      "cell_type": "code",
      "source": [
        "# 8. Check for null values\n",
        "print(df.isnull().sum())"
      ],
      "metadata": {
        "colab": {
          "base_uri": "https://localhost:8080/"
        },
        "id": "KzoXNHVfUy6U",
        "outputId": "e9016cb4-57f5-45b5-c357-5465e884eaa0"
      },
      "execution_count": 74,
      "outputs": [
        {
          "output_type": "stream",
          "name": "stdout",
          "text": [
            "Duration    0\n",
            "Pulse       0\n",
            "Maxpulse    0\n",
            "Calories    5\n",
            "dtype: int64\n"
          ]
        }
      ]
    },
    {
      "cell_type": "code",
      "source": [
        "# 8a. Replace null values with the mean of the column\n",
        "df.fillna(df.mean(numeric_only=True), inplace=True)\n",
        "print(\"Nulls replaced with mean where applicable.\")\n",
        "print(df.isnull().sum())  # Confirm no more nulls in numeric columns"
      ],
      "metadata": {
        "colab": {
          "base_uri": "https://localhost:8080/"
        },
        "id": "CvlEj63MrhQ9",
        "outputId": "3b8ead5e-d3ed-47df-efa8-d63c3a538e85"
      },
      "execution_count": 76,
      "outputs": [
        {
          "output_type": "stream",
          "name": "stdout",
          "text": [
            "Nulls replaced with mean where applicable.\n",
            "Duration    0\n",
            "Pulse       0\n",
            "Maxpulse    0\n",
            "Calories    0\n",
            "dtype: int64\n"
          ]
        }
      ]
    },
    {
      "cell_type": "code",
      "source": [
        "# 9. Aggregate data for two columns, e.g., Calories and Pulse\n",
        "agg_result = df[['Calories', 'Pulse']].agg(['min', 'max', 'count', 'mean'])\n",
        "print(agg_result)\n"
      ],
      "metadata": {
        "colab": {
          "base_uri": "https://localhost:8080/"
        },
        "id": "OlRCFRxhU80r",
        "outputId": "d25a10e8-3a70-45df-8461-2489144c12a2"
      },
      "execution_count": 77,
      "outputs": [
        {
          "output_type": "stream",
          "name": "stdout",
          "text": [
            "          Calories       Pulse\n",
            "min      50.300000   80.000000\n",
            "max    1860.400000  159.000000\n",
            "count   169.000000  169.000000\n",
            "mean    375.790244  107.461538\n"
          ]
        }
      ]
    },
    {
      "cell_type": "code",
      "source": [
        "# 10. Filter rows with Calories between 500 and 1000\n",
        "filtered_10 = df[(df['Calories'] >= 500) & (df['Calories'] <= 1000)]\n",
        "print(filtered_10)"
      ],
      "metadata": {
        "colab": {
          "base_uri": "https://localhost:8080/"
        },
        "id": "j5nK-ufEU_-U",
        "outputId": "8b1023dc-0742-48f1-8210-ec3a6e09ab8d"
      },
      "execution_count": 78,
      "outputs": [
        {
          "output_type": "stream",
          "name": "stdout",
          "text": [
            "     Duration  Pulse  Maxpulse  Calories\n",
            "51         80    123       146     643.1\n",
            "62        160    109       135     853.0\n",
            "65        180     90       130     800.4\n",
            "66        150    105       135     873.4\n",
            "67        150    107       130     816.0\n",
            "72         90    100       127     700.0\n",
            "73        150     97       127     953.2\n",
            "75         90     98       125     563.2\n",
            "78        120    100       130     500.4\n",
            "83        120    100       130     500.0\n",
            "90        180    101       127     600.1\n",
            "99         90     93       124     604.1\n",
            "101        90     90       110     500.0\n",
            "102        90     90       100     500.0\n",
            "103        90     90       100     500.4\n",
            "106       180     90       120     800.3\n",
            "108        90     90       120     500.3\n"
          ]
        }
      ]
    },
    {
      "cell_type": "code",
      "source": [
        "# 11. Filter rows with Calories > 500 and Pulse < 100\n",
        "filtered_11 = df[(df['Calories'] > 500) & (df['Pulse'] < 100)]\n",
        "print(filtered_11)"
      ],
      "metadata": {
        "colab": {
          "base_uri": "https://localhost:8080/"
        },
        "id": "pdS-i5mJVCq6",
        "outputId": "4f74c879-7ef6-4304-c5b1-c17f2b7e042d"
      },
      "execution_count": 79,
      "outputs": [
        {
          "output_type": "stream",
          "name": "stdout",
          "text": [
            "     Duration  Pulse  Maxpulse  Calories\n",
            "65        180     90       130     800.4\n",
            "70        150     97       129    1115.0\n",
            "73        150     97       127     953.2\n",
            "75         90     98       125     563.2\n",
            "99         90     93       124     604.1\n",
            "103        90     90       100     500.4\n",
            "106       180     90       120     800.3\n",
            "108        90     90       120     500.3\n"
          ]
        }
      ]
    },
    {
      "cell_type": "code",
      "source": [
        "#12. Create a new “df_modified” dataframe that contains all the columns from df except for “Maxpulse”.\n",
        "# Make sure columns have no extra spaces\n",
        "df.columns = df.columns.str.strip()\n",
        "\n",
        "# Create df_modified without the 'Maxpulse' column\n",
        "df_modified = df.loc[:, df.columns != 'Maxpulse']\n",
        "\n",
        "# Display first 5 rows of df_modified\n",
        "print(df_modified.head())\n"
      ],
      "metadata": {
        "colab": {
          "base_uri": "https://localhost:8080/"
        },
        "id": "ZRy3rkDZlbMC",
        "outputId": "b3d3118d-7e68-4958-f53d-e0876a8d5daa"
      },
      "execution_count": 80,
      "outputs": [
        {
          "output_type": "stream",
          "name": "stdout",
          "text": [
            "   Duration  Pulse  Calories\n",
            "0        60    110     409.1\n",
            "1        60    117     479.0\n",
            "2        60    103     340.0\n",
            "3        45    109     282.4\n",
            "4        45    117     406.0\n"
          ]
        }
      ]
    },
    {
      "cell_type": "code",
      "source": [
        "print(df_modified.columns.tolist())"
      ],
      "metadata": {
        "colab": {
          "base_uri": "https://localhost:8080/"
        },
        "id": "78KrcnM8uYYQ",
        "outputId": "b1c18aca-2d9a-46ac-cd3e-149bba645662"
      },
      "execution_count": 85,
      "outputs": [
        {
          "output_type": "stream",
          "name": "stdout",
          "text": [
            "['Duration', 'Pulse', 'Calories']\n"
          ]
        }
      ]
    },
    {
      "cell_type": "code",
      "source": [
        "#13.Delete the “Maxpulse” column from the main df dataframe\n",
        "if 'Maxpulse' in df.columns:\n",
        "    df.drop(columns=['Maxpulse'], inplace=True)\n",
        "else:\n",
        "    print(\"Maxpulse column not found in DataFrame.\")\n"
      ],
      "metadata": {
        "colab": {
          "base_uri": "https://localhost:8080/"
        },
        "id": "b9Z858Sim46t",
        "outputId": "58cbe226-2bc4-4c6e-c8da-2b1cdebd465e"
      },
      "execution_count": 83,
      "outputs": [
        {
          "output_type": "stream",
          "name": "stdout",
          "text": [
            "Maxpulse column not found in DataFrame.\n"
          ]
        }
      ]
    },
    {
      "cell_type": "code",
      "source": [
        "#14.Convert the datatype of Calories column to int datatype.\n",
        "df_modified['Calories'] = df_modified['Calories'].astype(int)\n",
        "print(df_modified)"
      ],
      "metadata": {
        "colab": {
          "base_uri": "https://localhost:8080/"
        },
        "id": "3iHUEMDym-vo",
        "outputId": "55ab1bc8-026f-430f-dcc4-7459734bb2c1"
      },
      "execution_count": 87,
      "outputs": [
        {
          "output_type": "stream",
          "name": "stdout",
          "text": [
            "     Duration  Pulse  Calories\n",
            "0          60    110       409\n",
            "1          60    117       479\n",
            "2          60    103       340\n",
            "3          45    109       282\n",
            "4          45    117       406\n",
            "5          60    102       300\n",
            "6          60    110       374\n",
            "7          45    104       253\n",
            "8          30    109       195\n",
            "9          60     98       269\n",
            "10         60    103       329\n",
            "11         60    100       250\n",
            "12         60    106       345\n",
            "13         60    104       379\n",
            "14         60     98       275\n",
            "15         60     98       215\n",
            "16         60    100       300\n",
            "17         45     90       375\n",
            "18         60    103       323\n",
            "19         45     97       243\n",
            "20         60    108       364\n",
            "21         45    100       282\n",
            "22         60    130       300\n",
            "23         45    105       246\n",
            "24         60    102       334\n",
            "25         60    100       250\n",
            "26         60     92       241\n",
            "27         60    103       375\n",
            "28         60    100       280\n",
            "29         60    102       380\n",
            "30         60     92       243\n",
            "31         45     90       180\n",
            "32         60    101       299\n",
            "33         60     93       223\n",
            "34         60    107       361\n",
            "35         60    114       415\n",
            "36         60    102       300\n",
            "37         60    100       300\n",
            "38         60    100       300\n",
            "39         45    104       266\n",
            "40         45     90       180\n",
            "41         60     98       286\n",
            "42         60    100       329\n",
            "43         60    111       400\n",
            "44         60    111       397\n",
            "45         60     99       273\n",
            "46         60    109       387\n",
            "47         45    111       300\n",
            "48         45    108       298\n",
            "49         60    111       397\n",
            "50         60    107       380\n",
            "51         80    123       643\n",
            "52         60    106       263\n",
            "53         60    118       486\n",
            "54         30    136       238\n",
            "55         60    121       450\n",
            "56         60    118       413\n",
            "57         45    115       305\n",
            "58         20    153       226\n",
            "59         45    123       321\n",
            "60        210    108      1376\n",
            "61        160    110      1034\n",
            "62        160    109       853\n",
            "63         45    118       341\n",
            "64         20    110       131\n",
            "65        180     90       800\n",
            "66        150    105       873\n",
            "67        150    107       816\n",
            "68         20    106       110\n",
            "69        300    108      1500\n",
            "70        150     97      1115\n",
            "71         60    109       387\n",
            "72         90    100       700\n",
            "73        150     97       953\n",
            "74         45    114       304\n",
            "75         90     98       563\n",
            "76         45    105       251\n",
            "77         45    110       300\n",
            "78        120    100       500\n",
            "79        270    100      1729\n",
            "80         30    159       319\n",
            "81         45    149       344\n",
            "82         30    103       151\n",
            "83        120    100       500\n",
            "84         45    100       225\n",
            "85         30    151       300\n",
            "86         45    102       234\n",
            "87        120    100      1000\n",
            "88         45    129       242\n",
            "89         20     83        50\n",
            "90        180    101       600\n",
            "91         45    107       375\n",
            "92         30     90       105\n",
            "93         15     80        50\n",
            "94         20    150       127\n",
            "95         20    151       229\n",
            "96         30     95       128\n",
            "97         25    152       244\n",
            "98         30    109       188\n",
            "99         90     93       604\n",
            "100        20     95        77\n",
            "101        90     90       500\n",
            "102        90     90       500\n",
            "103        90     90       500\n",
            "104        30     92        92\n",
            "105        30     93       124\n",
            "106       180     90       800\n",
            "107        30     90        86\n",
            "108        90     90       500\n",
            "109       210    137      1860\n",
            "110        60    102       325\n",
            "111        45    107       275\n",
            "112        15    124       124\n",
            "113        45    100       225\n",
            "114        60    108       367\n",
            "115        60    108       351\n",
            "116        60    116       443\n",
            "117        60     97       277\n",
            "118        60    105       375\n",
            "119        60    103       332\n",
            "120        30    112       193\n",
            "121        45    100       100\n",
            "122        60    119       336\n",
            "123        60    107       344\n",
            "124        60    111       368\n",
            "125        60     98       271\n",
            "126        60     97       275\n",
            "127        60    109       382\n",
            "128        90     99       466\n",
            "129        60    114       384\n",
            "130        60    104       342\n",
            "131        60    107       357\n",
            "132        60    103       335\n",
            "133        60    106       327\n",
            "134        60    103       339\n",
            "135        20    136       189\n",
            "136        45    117       317\n",
            "137        45    115       318\n",
            "138        45    113       308\n",
            "139        20    141       222\n",
            "140        60    108       390\n",
            "141        60     97       375\n",
            "142        45    100       250\n",
            "143        45    122       335\n",
            "144        60    136       470\n",
            "145        45    106       270\n",
            "146        60    107       400\n",
            "147        60    112       361\n",
            "148        30    103       185\n",
            "149        60    110       409\n",
            "150        60    106       343\n",
            "151        60    109       353\n",
            "152        60    109       374\n",
            "153        30    150       275\n",
            "154        60    105       328\n",
            "155        60    111       368\n",
            "156        60     97       270\n",
            "157        60    100       270\n",
            "158        60    114       382\n",
            "159        30     80       240\n",
            "160        30     85       250\n",
            "161        45     90       260\n",
            "162        45     95       270\n",
            "163        45    100       280\n",
            "164        60    105       290\n",
            "165        60    110       300\n",
            "166        60    115       310\n",
            "167        75    120       320\n",
            "168        75    125       330\n"
          ]
        }
      ]
    },
    {
      "cell_type": "code",
      "source": [
        "#15.Using pandas create a scatter plot for the two columns (Duration and Calories)\n",
        "df_modified.plot.scatter(x='Duration', y='Calories', title='Duration vs Calories')\n",
        "plt.show()"
      ],
      "metadata": {
        "colab": {
          "base_uri": "https://localhost:8080/",
          "height": 472
        },
        "id": "pgI_x9bxoMu2",
        "outputId": "4a94dfad-8117-4ede-ee4a-d46f17154565"
      },
      "execution_count": 88,
      "outputs": [
        {
          "output_type": "display_data",
          "data": {
            "text/plain": [
              "<Figure size 640x480 with 1 Axes>"
            ],
            "image/png": "[encoded data removed]"
          },
          "metadata": {}
        }
      ]
    },
    {
      "cell_type": "code",
      "source": [],
      "metadata": {
        "id": "8uGKbTA2oYn3"
      },
      "execution_count": null,
      "outputs": []
    }
  ]
}