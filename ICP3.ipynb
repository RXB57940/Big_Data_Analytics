{
  "nbformat": 4,
  "nbformat_minor": 0,
  "metadata": {
    "colab": {
      "provenance": []
    },
    "kernelspec": {
      "name": "python3",
      "display_name": "Python 3"
    },
    "language_info": {
      "name": "python"
    }
  },
  "cells": [
    {
      "cell_type": "code",
      "execution_count": 1,
      "metadata": {
        "id": "atQhxRIm2uUi"
      },
      "outputs": [],
      "source": [
        "import numpy as np"
      ]
    },
    {
      "cell_type": "code",
      "source": [
        "# Step 1: Creating random vector of size 15 with integers in range 1–20\n",
        "arr = np.random.randint(1, 21, size=15)\n",
        "print(\"Original Array:\\n\", arr)\n"
      ],
      "metadata": {
        "colab": {
          "base_uri": "https://localhost:8080/"
        },
        "id": "MiXmatm028CZ",
        "outputId": "682d2325-b461-48d1-9bec-bcb5c55e9de5"
      },
      "execution_count": 3,
      "outputs": [
        {
          "output_type": "stream",
          "name": "stdout",
          "text": [
            "Original Array:\n",
            " [ 8  2 19  3 12 12 20 19 12 18 17 20 16 18 10]\n"
          ]
        }
      ]
    },
    {
      "cell_type": "code",
      "source": [
        "# Step 2: Reshape the array to 3x5\n",
        "arr = arr.reshape(3, 5)\n",
        "print(\"\\nReshaped Array (3x5):\\n\", arr)"
      ],
      "metadata": {
        "colab": {
          "base_uri": "https://localhost:8080/"
        },
        "id": "sI5IGwQV3GXx",
        "outputId": "ef16f144-8f4c-47ae-c04d-36d9ff1853cf"
      },
      "execution_count": 4,
      "outputs": [
        {
          "output_type": "stream",
          "name": "stdout",
          "text": [
            "\n",
            "Reshaped Array (3x5):\n",
            " [[ 8  2 19  3 12]\n",
            " [12 20 19 12 18]\n",
            " [17 20 16 18 10]]\n"
          ]
        }
      ]
    },
    {
      "cell_type": "code",
      "source": [
        "# Step 3: Print array shape\n",
        "print(\"\\nShape of the array:\", arr.shape)"
      ],
      "metadata": {
        "colab": {
          "base_uri": "https://localhost:8080/"
        },
        "id": "h5GpGvJj3I-3",
        "outputId": "70d6be2f-24db-4f04-a34f-9c1df51c4125"
      },
      "execution_count": 5,
      "outputs": [
        {
          "output_type": "stream",
          "name": "stdout",
          "text": [
            "\n",
            "Shape of the array: (3, 5)\n"
          ]
        }
      ]
    },
    {
      "cell_type": "code",
      "source": [
        "# Step 4: Replace the max in each row with 0\n",
        "for i in range(arr.shape[0]):\n",
        "    max_index = np.argmax(arr[i])\n",
        "    arr[i, max_index] = 0\n",
        "\n",
        "print(\"\\nModified Array (Max in each row replaced by 0):\\n\", arr)"
      ],
      "metadata": {
        "colab": {
          "base_uri": "https://localhost:8080/"
        },
        "id": "yLDOh_g-3Lix",
        "outputId": "830babe4-80dd-46c0-9af0-f4787a8a85d4"
      },
      "execution_count": 6,
      "outputs": [
        {
          "output_type": "stream",
          "name": "stdout",
          "text": [
            "\n",
            "Modified Array (Max in each row replaced by 0):\n",
            " [[ 8  2  0  3 12]\n",
            " [12  0 19 12 18]\n",
            " [17  0 16 18 10]]\n"
          ]
        }
      ]
    },
    {
      "cell_type": "code",
      "source": [
        "#1b. Create a 2-dimensional array of size 4 x 3 (composed of 4-byte integer elements), also print the shape, type and data\n",
        "#type of the array.\n",
        "\n",
        "# Create a 4x3 array with 4-byte integers (int32)\n",
        "arr = np.array([[1, 2, 3],\n",
        "                [4, 5, 6],\n",
        "                [7, 8, 9],\n",
        "                [10, 11, 12]], dtype=np.int32)\n",
        "\n",
        "# Print the array\n",
        "print(\"Array:\\n\", arr)\n",
        "\n",
        "# Print shape of the array\n",
        "print(\"\\nShape:\", arr.shape)\n",
        "\n",
        "# Print type of the array object\n",
        "print(\"Type:\", type(arr))\n",
        "\n",
        "# Print data type of the elements\n",
        "print(\"Data type:\", arr.dtype)\n"
      ],
      "metadata": {
        "colab": {
          "base_uri": "https://localhost:8080/"
        },
        "id": "2QiiyOxi3MdU",
        "outputId": "16d010b2-39b3-4a3d-fa34-3d88564653f6"
      },
      "execution_count": 7,
      "outputs": [
        {
          "output_type": "stream",
          "name": "stdout",
          "text": [
            "Array:\n",
            " [[ 1  2  3]\n",
            " [ 4  5  6]\n",
            " [ 7  8  9]\n",
            " [10 11 12]]\n",
            "\n",
            "Shape: (4, 3)\n",
            "Type: <class 'numpy.ndarray'>\n",
            "Data type: int32\n"
          ]
        }
      ]
    },
    {
      "cell_type": "code",
      "source": [
        "#c. Write a program to compute the eigenvalues and right eigenvectors of a given square array(A) given below:\n",
        "\n",
        "# Define the square matrix\n",
        "A = np.array([[3, -2],\n",
        "              [1,  0]])\n",
        "\n",
        "# Compute eigenvalues and right eigenvectors\n",
        "eigenvalues, eigenvectors = np.linalg.eig(A)\n",
        "\n",
        "print(\"Eigenvalues:\\n\", eigenvalues)\n",
        "print(\"Right Eigenvectors:\\n\", eigenvectors)\n"
      ],
      "metadata": {
        "colab": {
          "base_uri": "https://localhost:8080/"
        },
        "id": "Q8G8XUlA36UZ",
        "outputId": "b17d426c-f0ed-4484-aac3-a78cc5b9bb13"
      },
      "execution_count": 9,
      "outputs": [
        {
          "output_type": "stream",
          "name": "stdout",
          "text": [
            "Eigenvalues:\n",
            " [2. 1.]\n",
            "Right Eigenvectors:\n",
            " [[0.89442719 0.70710678]\n",
            " [0.4472136  0.70710678]]\n"
          ]
        }
      ]
    },
    {
      "cell_type": "code",
      "source": [
        "#d.Compute the sum of the diagonal element of a given array(arr).\n",
        "# Define the array\n",
        "arr = np.array([[0, 1, 2],\n",
        "                [3, 4, 5]])\n",
        "\n",
        "# Compute the sum of diagonal elements\n",
        "diag_sum = np.trace(arr)\n",
        "\n",
        "print(\"Sum of diagonal elements:\", diag_sum)\n"
      ],
      "metadata": {
        "colab": {
          "base_uri": "https://localhost:8080/"
        },
        "id": "eFgPmMZa4CZT",
        "outputId": "a2f13b9c-62a4-4a77-f4cb-7f3554880bf7"
      },
      "execution_count": 12,
      "outputs": [
        {
          "output_type": "stream",
          "name": "stdout",
          "text": [
            "Sum of diagonal elements: 4\n"
          ]
        }
      ]
    },
    {
      "cell_type": "code",
      "source": [
        "#E.Write a NumPy program to create a new shape to an array(arr) without changing its data.\n",
        "# Original array (3x2)\n",
        "arr = np.array([[1, 2],\n",
        "                [3, 4],\n",
        "                [5, 6]])\n",
        "\n",
        "# Reshape to (2x3)\n",
        "reshaped_arr = arr.reshape(2, 3)\n",
        "\n",
        "print(\"Original (3x2):\\n\", arr)\n",
        "print(\"\\nReshaped (2x3):\\n\", reshaped_arr)\n"
      ],
      "metadata": {
        "colab": {
          "base_uri": "https://localhost:8080/"
        },
        "id": "QkI1F7rj4ZYO",
        "outputId": "e3b457f0-57d6-4375-ee0e-13ac27615bd8"
      },
      "execution_count": 13,
      "outputs": [
        {
          "output_type": "stream",
          "name": "stdout",
          "text": [
            "Original (3x2):\n",
            " [[1 2]\n",
            " [3 4]\n",
            " [5 6]]\n",
            "\n",
            "Reshaped (2x3):\n",
            " [[1 2 3]\n",
            " [4 5 6]]\n"
          ]
        }
      ]
    },
    {
      "cell_type": "code",
      "source": [],
      "metadata": {
        "id": "BQM5xWTR43Tx"
      },
      "execution_count": null,
      "outputs": []
    }
  ]
}