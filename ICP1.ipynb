{
  "cells": [
    {
      "cell_type": "code",
      "execution_count": 1,
      "metadata": {
        "colab": {
          "base_uri": "https://localhost:8080/"
        },
        "id": "e5JMNX5o4RTC",
        "outputId": "62a73f31-1ec3-4cda-9fcb-cfbf1ad63ccd"
      },
      "outputs": [
        {
          "name": "stdout",
          "output_type": "stream",
          "text": [
            "Mounted at /content/drive\n"
          ]
        }
      ],
      "source": [
        "from google.colab import drive\n",
        "drive.mount('/content/drive')"
      ]
    },
    {
      "cell_type": "code",
      "execution_count": 8,
      "metadata": {
        "colab": {
          "base_uri": "https://localhost:8080/"
        },
        "id": "Z3jADyJn5DOv",
        "outputId": "3d81d2e9-4c78-4780-a0cd-c3c4cb98d555"
      },
      "outputs": [
        {
          "name": "stdout",
          "output_type": "stream",
          "text": [
            "Enter the word (e.g., python): roshan\n",
            "Resultant string: nhsr\n"
          ]
        }
      ],
      "source": [
        "# Task 5a: Input string, delete characters, reverse and print\n",
        "\n",
        "# Step 1: Take input and convert to list\n",
        "input_str = input(\"Enter the word (e.g., python): \")\n",
        "char_list = list(input_str)\n",
        "\n",
        "# Step 2: Delete 'y' and 'o' by value or by position (indexes 1 and 4)\n",
        "# Delete higher index first to avoid shifting issues\n",
        "if len(char_list) >=5:\n",
        "    del char_list[4]  # Remove 5th character\n",
        "    del char_list[1]  # Remove 2nd character\n",
        "\n",
        "else:\n",
        "    print(\"Input too short to delete 2 characters.\")\n",
        "\n",
        "# Step 3: Reverse the list\n",
        "char_list.reverse()\n",
        "\n",
        "# Step 4: Join and print the result\n",
        "result = ''.join(char_list)\n",
        "print(\"Resultant string:\", result)\n",
        "\n"
      ]
    },
    {
      "cell_type": "code",
      "execution_count": 3,
      "metadata": {
        "colab": {
          "base_uri": "https://localhost:8080/"
        },
        "id": "2Uvnpf0P5Sdq",
        "outputId": "82f8317e-46db-4667-c286-cfb95c659a44"
      },
      "outputs": [
        {
          "name": "stdout",
          "output_type": "stream",
          "text": [
            "Enter first number: 10\n",
            "Enter second number: 2\n",
            "Addition: 12.0\n",
            "Subtraction: 8.0\n",
            "Multiplication: 20.0\n",
            "Division: 5.0\n"
          ]
        }
      ],
      "source": [
        "# Task 5b: Arithmetic operations on two user inputs\n",
        "\n",
        "# Take two numbers\n",
        "num1 = float(input(\"Enter first number: \"))\n",
        "num2 = float(input(\"Enter second number: \"))\n",
        "\n",
        "# Perform arithmetic operations\n",
        "print(f\"Addition: {num1 + num2}\")\n",
        "print(f\"Subtraction: {num1 - num2}\")\n",
        "print(f\"Multiplication: {num1 * num2}\")\n",
        "if num2 != 0:\n",
        "    print(f\"Division: {num1 / num2}\")\n",
        "else:\n",
        "    print(\"Division: Cannot divide by zero\")\n"
      ]
    },
    {
      "cell_type": "code",
      "execution_count": 16,
      "metadata": {
        "colab": {
          "base_uri": "https://localhost:8080/"
        },
        "id": "DYiR8wiP7NLR",
        "outputId": "abcd623a-f108-4c5f-edda-da1219123f81"
      },
      "outputs": [
        {
          "name": "stdout",
          "output_type": "stream",
          "text": [
            "Enter a sentence: I am currently  using python compiler\n",
            "Modified sentence: I am currently  using pythons compiler\n"
          ]
        }
      ],
      "source": [
        "\n",
        "# Accept input from user\n",
        "sentence = input(\"Enter a sentence: \")\n",
        "\n",
        "# Replace all occurrences of 'python' with 'pythons'\n",
        "modified_sentence = sentence.replace('python', 'pythons')\n",
        "\n",
        "# Print the modified sentence\n",
        "print(\"Modified sentence:\", modified_sentence)\n"
      ]
    },
    {
      "cell_type": "code",
      "execution_count": 13,
      "metadata": {
        "colab": {
          "base_uri": "https://localhost:8080/"
        },
        "id": "LeI0z6hH7rs2",
        "outputId": "c29f26ad-d74e-4f0f-9221-24143455437b"
      },
      "outputs": [
        {
          "name": "stdout",
          "output_type": "stream",
          "text": [
            "Enter your class score (0–100): -10\n",
            "Your grade is: Invalid score\n"
          ]
        }
      ],
      "source": [
        "# Accept the class score from user\n",
        "score = float(input(\"Enter your class score (0–100): \"))\n",
        "\n",
        "# Determine the letter grade using if-elif-else\n",
        "if score >= 90 and score <= 100:\n",
        "    grade = 'A'\n",
        "elif score >= 80:\n",
        "    grade = 'B'\n",
        "elif score >= 70:\n",
        "    grade = 'C'\n",
        "elif score >= 60:\n",
        "    grade = 'D'\n",
        "elif score >= 0:\n",
        "    grade = 'F'\n",
        "else:\n",
        "    grade = 'Invalid score'\n",
        "\n",
        "# Print the grade\n",
        "print(\"Your grade is:\", grade)\n"
      ]
    },
    {
      "cell_type": "code",
      "execution_count": 14,
      "metadata": {
        "colab": {
          "base_uri": "https://localhost:8080/"
        },
        "id": "-qGrKamo8F_f",
        "outputId": "364f5851-40dc-42e3-f17d-e4d77de4ebb9"
      },
      "outputs": [
        {
          "name": "stdout",
          "output_type": "stream",
          "text": [
            "Original list: [23, 'Python', 23.98]\n",
            "Data types: [<class 'int'>, <class 'str'>, <class 'float'>]\n"
          ]
        }
      ],
      "source": [
        "# Input list\n",
        "x = [23, 'Python', 23.98]\n",
        "\n",
        "# Create a list containing the type of each element\n",
        "types = [type(i) for i in x]\n",
        "\n",
        "# Print original list and corresponding types\n",
        "print(\"Original list:\", x)\n",
        "print(\"Data types:\", types)"
      ]
    },
    {
      "cell_type": "code",
      "execution_count": 15,
      "metadata": {
        "colab": {
          "base_uri": "https://localhost:8080/"
        },
        "id": "aKhikQEe8L1_",
        "outputId": "84887896-1170-420f-d1ad-f51314c7f06c"
      },
      "outputs": [
        {
          "name": "stdout",
          "output_type": "stream",
          "text": [
            "Length of IT_companies: 7\n",
            "After adding Twitter: {'Apple', 'Oracle', 'Facebook', 'Microsoft', 'Amazon', 'Twitter', 'Google', 'IBM'}\n",
            "After adding multiple companies: {'Microsoft', 'Amazon', 'Capgemini', 'Twitter', 'Google', 'TCS', 'Apple', 'Oracle', 'IBM', 'Facebook', 'Infosys'}\n",
            "After removing Oracle: {'Microsoft', 'Amazon', 'Capgemini', 'Twitter', 'Google', 'TCS', 'Apple', 'IBM', 'Facebook', 'Infosys'}\n",
            "\n",
            "Difference between remove and discard:\n",
            "- remove(): Raises an error if element not found\n",
            "- discard(): Does nothing if element not found\n",
            "Union of A and B: {19, 20, 22, 24, 25, 26, 27, 28}\n",
            "Intersection of A and B: {19, 20, 22, 24, 25, 26}\n",
            "Is A subset of B? True\n",
            "Are A and B disjoint? False\n",
            "A | B: {19, 20, 22, 24, 25, 26, 27, 28}\n",
            "B | A: {19, 20, 22, 24, 25, 26, 27, 28}\n",
            "Symmetric difference: {27, 28}\n",
            "Sets A and B deleted.\n",
            "Length of age list: 8\n",
            "Length of age set (unique values): 5\n"
          ]
        }
      ],
      "source": [
        "# Question 9\n",
        "\n",
        "# Set of IT companies\n",
        "IT_companies = {'Facebook', 'Google', 'Microsoft', 'Apple', 'IBM', 'Oracle', 'Amazon'}\n",
        "\n",
        "# Sets A and B\n",
        "A = {19, 22, 24, 20, 25, 26}\n",
        "B = {19, 22, 20, 25, 26, 24, 28, 27}\n",
        "\n",
        "# List of ages\n",
        "age = [22, 19, 24, 25, 26, 24, 25, 24]\n",
        "\n",
        "# 1. Length of IT_companies\n",
        "print(\"Length of IT_companies:\", len(IT_companies))\n",
        "\n",
        "# 2. Add 'Twitter'\n",
        "IT_companies.add('Twitter')\n",
        "print(\"After adding Twitter:\", IT_companies)\n",
        "\n",
        "# 3. Add multiple companies\n",
        "IT_companies.update(['TCS', 'Infosys', 'Capgemini'])\n",
        "print(\"After adding multiple companies:\", IT_companies)\n",
        "\n",
        "# 4. Remove one company (e.g., Oracle)\n",
        "IT_companies.remove('Oracle')\n",
        "print(\"After removing Oracle:\", IT_companies)\n",
        "\n",
        "# 5. Difference between remove and discard\n",
        "print(\"\\nDifference between remove and discard:\")\n",
        "print(\"- remove(): Raises an error if element not found\")\n",
        "print(\"- discard(): Does nothing if element not found\")\n",
        "\n",
        "# 6. Join A and B (Union)\n",
        "print(\"Union of A and B:\", A.union(B))\n",
        "\n",
        "# 7. Intersection of A and B\n",
        "print(\"Intersection of A and B:\", A.intersection(B))\n",
        "\n",
        "# 8. Check if A is subset of B\n",
        "print(\"Is A subset of B?\", A.issubset(B))\n",
        "\n",
        "# 9. Check if A and B are disjoint sets\n",
        "print(\"Are A and B disjoint?\", A.isdisjoint(B))\n",
        "\n",
        "# 10. Join A with B and B with A\n",
        "print(\"A | B:\", A | B)\n",
        "print(\"B | A:\", B | A)\n",
        "\n",
        "# 11. Symmetric difference between A and B\n",
        "print(\"Symmetric difference:\", A.symmetric_difference(B))\n",
        "\n",
        "# 12. Delete sets\n",
        "del A\n",
        "del B\n",
        "print(\"Sets A and B deleted.\")\n",
        "\n",
        "# 13. Convert age list to set and compare lengths\n",
        "age_set = set(age)\n",
        "print(\"Length of age list:\", len(age))\n",
        "print(\"Length of age set (unique values):\", len(age_set))\n"
      ]
    }
  ],
  "metadata": {
    "colab": {
      "provenance": []
    },
    "kernelspec": {
      "display_name": "Python 3",
      "name": "python3"
    },
    "language_info": {
      "name": "python"
    }
  },
  "nbformat": 4,
  "nbformat_minor": 0
}
