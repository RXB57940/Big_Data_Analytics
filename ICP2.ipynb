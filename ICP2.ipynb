{
  "nbformat": 4,
  "nbformat_minor": 0,
  "metadata": {
    "colab": {
      "provenance": []
    },
    "kernelspec": {
      "name": "python3",
      "display_name": "Python 3"
    },
    "language_info": {
      "name": "python"
    }
  },
  "cells": [
    {
      "cell_type": "code",
      "source": [
        "#1a.  Explain the difference between Counter.count and self._count.\n",
        "#Answer:\n",
        "#Counter.count\n",
        "#1.\tThis is a class variable\n",
        "#2.\tIt is shared among all instances of the class.\n",
        "#3.\tWhen modified, the change is reflected across all instances.\n",
        "#4.\tAccessible via Counter.count or self.count (if not shadowed by an instance attribute).\n",
        "\n",
        "#self.count.\n",
        "#1. This is an instance variable\n",
        "#2. Each object (a, b, etc.) has its own separate copy of __count\n",
        "#3. It is modified and accessed only within that instance.\n",
        "\n",
        "#1b.  What is the output of a.get_counts() and b.get_counts()?\n",
        "#Answer: Output of a.get_counts() returns Instance count: 2, Class count : 3\n",
        "                #output of  b.get_counts() returns Instance count: 1, Class count : 3\n",
        "\n",
        " #1c.  How does the increment method affect both the class and instance variables?\n",
        "#Answer:   self.__count (instance variable) increases by 1 — unique per object.\n",
        "  #Counter.count (class variable) increases by 1 — reflects cumulative increments across all instances.\n"
      ],
      "metadata": {
        "id": "aukTcm5aPpfb"
      },
      "execution_count": null,
      "outputs": []
    },
    {
      "cell_type": "code",
      "source": [
        "def sum_all(*args):\n",
        "    return sum(args)\n",
        "\n",
        "print(\"Sum of 1,2,3 is:\", sum_all(1,2,3))\n",
        "print(\"Sum of 4,5,6,7 is:\", sum_all(4,5,6,7))"
      ],
      "metadata": {
        "colab": {
          "base_uri": "https://localhost:8080/"
        },
        "id": "Cjzwq8MVO2Bu",
        "outputId": "d1c21e54-7079-4cb1-b865-3c2f84afe5e5"
      },
      "execution_count": null,
      "outputs": [
        {
          "output_type": "stream",
          "name": "stdout",
          "text": [
            "Sum of 1,2,3 is: 6\n",
            "Sum of 4,5,6,7 is: 22\n"
          ]
        }
      ]
    },
    {
      "cell_type": "code",
      "source": [
        "def first_word(names):\n",
        "    sorted_names = sorted(names)\n",
        "    return sorted_names[0]\n",
        "\n",
        "students = ['Mary', 'Belda', 'Jimmy', 'Jack', 'Rithwik', 'Roshan']\n",
        "print(first_word(students))\n",
        "\n"
      ],
      "metadata": {
        "colab": {
          "base_uri": "https://localhost:8080/"
        },
        "id": "0i4L2m7LMytC",
        "outputId": "b50a62b8-2075-4325-8a0d-7d2ad4c7ba92"
      },
      "execution_count": null,
      "outputs": [
        {
          "output_type": "stream",
          "name": "stdout",
          "text": [
            "Belda\n"
          ]
        }
      ]
    },
    {
      "cell_type": "code",
      "source": [
        "# Base class for all employees\n",
        "class Employee:\n",
        "    count = 0              # Tracks total number of employees\n",
        "    total_salary = 0       # Tracks total salary of all employees\n",
        "\n",
        "    # Constructor to initialize employee details\n",
        "    def __init__(self, name, family, salary, dept):\n",
        "        self.name = name\n",
        "        self.family = family\n",
        "        self.salary = salary\n",
        "        self.dept = dept\n",
        "        Employee.count += 1\n",
        "        Employee.total_salary += salary\n",
        "\n",
        "    # Class method to calculate average salary\n",
        "    @classmethod\n",
        "    def avg_salary(cls):\n",
        "        return cls.total_salary / cls.count if cls.count else 0\n",
        "\n",
        "# Subclass for full-time employees\n",
        "class FulltimeEmployee(Employee):\n",
        "    pass\n",
        "\n",
        "# Creating employee instances\n",
        "e1 = Employee(\"Roshan\", \"Bhompally\", 55000, \"HR\")\n",
        "e2 = FulltimeEmployee(\"John\", \"David\", 67900, \"IT\")\n",
        "e3 = FulltimeEmployee(\"Sai\", \"Kumar\", 95000, \"Finance\")\n",
        "\n",
        "# Display total number of employees\n",
        "print(\"Employees:\", Employee.count)\n",
        "\n",
        "# Display average salary\n",
        "print(\"Average Salary:\", Employee.avg_salary())\n"
      ],
      "metadata": {
        "colab": {
          "base_uri": "https://localhost:8080/"
        },
        "id": "J7o5wibHONZ6",
        "outputId": "92dc3be8-fac3-4aa8-e74f-9ad9f11a6e29"
      },
      "execution_count": null,
      "outputs": [
        {
          "output_type": "stream",
          "name": "stdout",
          "text": [
            "Employees: 3\n",
            "Average Salary: 72633.33333333333\n"
          ]
        }
      ]
    }
  ]
}